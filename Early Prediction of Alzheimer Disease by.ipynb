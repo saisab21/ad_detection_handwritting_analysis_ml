{
 "cells": [
  {
   "cell_type": "code",
   "execution_count": 1,
   "id": "28d06732",
   "metadata": {},
   "outputs": [],
   "source": [
    "import pandas as pd\n",
    "import numpy as np\n",
    "import matplotlib.pyplot as plt\n",
    "import seaborn as sns\n",
    "from sklearn.model_selection import train_test_split, GridSearchCV, cross_val_score\n",
    "from sklearn.impute import SimpleImputer\n",
    "from sklearn.preprocessing import LabelEncoder, StandardScaler\n",
    "from sklearn.feature_selection import RFE\n",
    "from sklearn.tree import DecisionTreeClassifier\n",
    "from sklearn.ensemble import RandomForestClassifier\n",
    "from sklearn.svm import SVC\n",
    "from sklearn.naive_bayes import GaussianNB\n",
    "from sklearn.metrics import accuracy_score, classification_report\n"
   ]
  },
  {
   "cell_type": "code",
   "execution_count": 2,
   "id": "10e332c6",
   "metadata": {},
   "outputs": [],
   "source": [
    "# Loading the datasets\n",
    "test_data = pd.read_csv('test_data.csv')\n",
    "training_data = pd.read_csv('training_data.csv')\n",
    "training_targets = pd.read_csv('training_data_targets.csv', header=None, names=['Target'])\n"
   ]
  },
  {
   "cell_type": "code",
   "execution_count": 3,
   "id": "6a2ac664",
   "metadata": {},
   "outputs": [
    {
     "name": "stdout",
     "output_type": "stream",
     "text": [
      "Number of data points and labels in the Training Data: (156, 450)\n",
      "Number of data points and labels in the Training Targets: (156, 1)\n",
      "Number of data points and labels in the Test Data: (18, 450)\n"
     ]
    }
   ],
   "source": [
    "print(\"Number of data points and labels in the Training Data:\", training_data.shape)\n",
    "print(\"Number of data points and labels in the Training Targets:\", training_targets.shape)\n",
    "print(\"Number of data points and labels in the Test Data:\", test_data.shape)"
   ]
  },
  {
   "cell_type": "code",
   "execution_count": 4,
   "id": "e882a272",
   "metadata": {},
   "outputs": [
    {
     "name": "stdout",
     "output_type": "stream",
     "text": [
      "Test Data:\n",
      "    air_time1  disp_index1  gmrt_in_air1  gmrt_on_paper1  max_x_extension1  \\\n",
      "0       5880     0.000007    167.703955      332.126873              1402   \n",
      "1       5705     0.000011    331.233476      156.489551              1039   \n",
      "2       4830     0.000012    205.765881       98.679157              1643   \n",
      "3      22520     0.000010     28.734515      103.894460               981   \n",
      "4       5160     0.000013    120.804174       86.853334               957   \n",
      "\n",
      "   max_y_extension1  mean_acc_in_air1  mean_acc_on_paper1  mean_gmrt1  \\\n",
      "0              5626          0.339520            0.250085  249.915414   \n",
      "1              7637          1.373276            0.140836  243.861514   \n",
      "2              8121          0.267541            0.150560  152.222519   \n",
      "3              5830          0.067748            0.122897   66.314487   \n",
      "4              6601          0.361800            0.217459  103.828754   \n",
      "\n",
      "   mean_jerk_in_air1  ...  mean_gmrt25  mean_jerk_in_air25  \\\n",
      "0           0.054317  ...   309.557070            0.285546   \n",
      "1           0.260237  ...   281.734262            0.200445   \n",
      "2           0.046280  ...    69.928033            0.040198   \n",
      "3           0.011861  ...   216.118055            0.077718   \n",
      "4           0.051836  ...   249.729085            0.141434   \n",
      "\n",
      "   mean_jerk_on_paper25  mean_speed_in_air25  mean_speed_on_paper25  \\\n",
      "0              0.019066             6.945456               3.629327   \n",
      "1              0.021218             5.467279               4.374000   \n",
      "2              0.025202             1.323565               1.272008   \n",
      "3              0.019691             3.830632               3.548431   \n",
      "4              0.024471             5.596487               3.184589   \n",
      "\n",
      "   num_of_pendown25  paper_time25  pressure_mean25  pressure_var25  \\\n",
      "0                39         30835      1933.080104      86695.5882   \n",
      "1                74         40415      1876.035259     165849.6658   \n",
      "2                32        139575       558.595486     218550.9397   \n",
      "3                73         41135      1765.580649     179098.5221   \n",
      "4                71         40120      1749.278166     296102.7676   \n",
      "\n",
      "   total_time25  \n",
      "0         43805  \n",
      "1         65224  \n",
      "2        213105  \n",
      "3         69215  \n",
      "4        144605  \n",
      "\n",
      "[5 rows x 450 columns]\n",
      "\n",
      "Training Data:\n",
      "    air_time1  disp_index1  gmrt_in_air1  gmrt_on_paper1  max_x_extension1  \\\n",
      "0       2380     0.000007    150.688702      170.070042              1872   \n",
      "1       4050     0.000011    313.348600      262.519151              3119   \n",
      "2        950     0.000009    298.782664      126.443484               990   \n",
      "3        440     0.000009   1168.328276      168.852242              2839   \n",
      "4       5770     0.000008    131.999690       86.784455              1208   \n",
      "\n",
      "   max_y_extension1  mean_acc_in_air1  mean_acc_on_paper1  mean_gmrt1  \\\n",
      "0              4892          0.408521            0.162480  160.379372   \n",
      "1             11475          0.287621            0.176755  287.933876   \n",
      "2              5249          0.207722            0.118069  212.613074   \n",
      "3              7786          0.328469            0.163690  668.590259   \n",
      "4              6298          0.383622            0.156398  109.392073   \n",
      "\n",
      "   mean_jerk_in_air1  ...  mean_gmrt25  mean_jerk_in_air25  \\\n",
      "0           0.071124  ...   187.005105            0.089351   \n",
      "1           0.036555  ...   282.751613            0.066451   \n",
      "2           0.024382  ...   254.984192            0.163622   \n",
      "3           0.050627  ...   211.537947            0.147616   \n",
      "4           0.060444  ...   188.643029            0.123836   \n",
      "\n",
      "   mean_jerk_on_paper25  mean_speed_in_air25  mean_speed_on_paper25  \\\n",
      "0              0.019781             3.431968               2.628899   \n",
      "1              0.021368             5.642493               3.540766   \n",
      "2              0.026754             6.090230               3.362215   \n",
      "3              0.019214             4.211287               2.603010   \n",
      "4              0.020357             3.566246               2.595331   \n",
      "\n",
      "   num_of_pendown25  paper_time25  pressure_mean25  pressure_var25  \\\n",
      "0               106         46350      1561.181230    292377.27850   \n",
      "1                66         28480      1999.775983     43190.74406   \n",
      "2               108         32150      1735.817729    231648.19040   \n",
      "3                62         30030      1643.603730    142390.12470   \n",
      "4                97         40385      1497.226693    175888.77400   \n",
      "\n",
      "   total_time25  \n",
      "0         97400  \n",
      "1         44705  \n",
      "2        616655  \n",
      "3         51210  \n",
      "4         82210  \n",
      "\n",
      "[5 rows x 450 columns]\n",
      "\n",
      "Training Targets:\n",
      "   Target\n",
      "0      H\n",
      "1      H\n",
      "2      H\n",
      "3      P\n",
      "4      P\n"
     ]
    }
   ],
   "source": [
    "# Displaying the first few rows of the datasets\n",
    "print(\"Test Data:\\n\", test_data.head())\n",
    "print(\"\\nTraining Data:\\n\", training_data.head())\n",
    "print(\"\\nTraining Targets:\\n\", training_targets.head())\n"
   ]
  },
  {
   "cell_type": "code",
   "execution_count": 5,
   "id": "60c70ff6",
   "metadata": {},
   "outputs": [
    {
     "name": "stderr",
     "output_type": "stream",
     "text": [
      "C:\\ProgramData\\anaconda3\\Lib\\site-packages\\seaborn\\_oldcore.py:1498: FutureWarning: is_categorical_dtype is deprecated and will be removed in a future version. Use isinstance(dtype, CategoricalDtype) instead\n",
      "  if pd.api.types.is_categorical_dtype(vector):\n",
      "C:\\ProgramData\\anaconda3\\Lib\\site-packages\\seaborn\\_oldcore.py:1498: FutureWarning: is_categorical_dtype is deprecated and will be removed in a future version. Use isinstance(dtype, CategoricalDtype) instead\n",
      "  if pd.api.types.is_categorical_dtype(vector):\n",
      "C:\\ProgramData\\anaconda3\\Lib\\site-packages\\seaborn\\_oldcore.py:1498: FutureWarning: is_categorical_dtype is deprecated and will be removed in a future version. Use isinstance(dtype, CategoricalDtype) instead\n",
      "  if pd.api.types.is_categorical_dtype(vector):\n"
     ]
    },
    {
     "data": {
      "image/png": "[encoded data removed]",
      "text/plain": [
       "<Figure size 640x480 with 1 Axes>"
      ]
     },
     "metadata": {},
     "output_type": "display_data"
    }
   ],
   "source": [
    "# Distribution of Target Classes\n",
    "sns.countplot(x='Target', data=training_targets)\n",
    "plt.title('Distribution of Target Classes')\n",
    "plt.show()\n"
   ]
  },
  {
   "cell_type": "code",
   "execution_count": 6,
   "id": "7520171d",
   "metadata": {},
   "outputs": [
    {
     "name": "stdout",
     "output_type": "stream",
     "text": [
      "Missing values in the dataset:\n",
      " air_time1           0\n",
      "disp_index1         0\n",
      "gmrt_in_air1        0\n",
      "gmrt_on_paper1      0\n",
      "max_x_extension1    0\n",
      "                   ..\n",
      "num_of_pendown25    0\n",
      "paper_time25        0\n",
      "pressure_mean25     0\n",
      "pressure_var25      0\n",
      "total_time25        0\n",
      "Length: 450, dtype: int64\n",
      "No missing values found.\n",
      "Missing values in the dataset:\n",
      " air_time1           0\n",
      "disp_index1         0\n",
      "gmrt_in_air1        0\n",
      "gmrt_on_paper1      0\n",
      "max_x_extension1    0\n",
      "                   ..\n",
      "num_of_pendown25    0\n",
      "paper_time25        0\n",
      "pressure_mean25     0\n",
      "pressure_var25      0\n",
      "total_time25        0\n",
      "Length: 450, dtype: int64\n",
      "No missing values found.\n"
     ]
    }
   ],
   "source": [
    "# Function to check and impute missing values\n",
    "def check_and_impute_missing_values(data):\n",
    "    missing_values = data.isnull().sum()\n",
    "    print(\"Missing values in the dataset:\\n\", missing_values)\n",
    "    if missing_values.sum() > 0:\n",
    "        print(\"Imputing missing values with mean...\")\n",
    "        imputer = SimpleImputer(strategy='mean')\n",
    "        return pd.DataFrame(imputer.fit_transform(data), columns=data.columns)\n",
    "    else:\n",
    "        print(\"No missing values found.\")\n",
    "        return data\n",
    "\n",
    "training_data = check_and_impute_missing_values(training_data)\n",
    "test_data = check_and_impute_missing_values(test_data)\n"
   ]
  },
  {
   "cell_type": "code",
   "execution_count": 10,
   "id": "5121a0ba",
   "metadata": {},
   "outputs": [],
   "source": [
    "# Encoding the target variable\n",
    "le = LabelEncoder()\n",
    "y_encoded = le.fit_transform(training_targets['Target'])\n",
    "\n",
    "# Feature Scaling\n",
    "scaler = StandardScaler()\n",
    "X_scaled = scaler.fit_transform(training_data)\n",
    "X_test_scaled = scaler.transform(test_data)\n",
    "\n",
    "# Feature Selection using RFE\n",
    "estimator = RandomForestClassifier(random_state=42)\n",
    "selector = RFE(estimator, n_features_to_select=10, step=1) \n",
    "X_selected = selector.fit_transform(X_scaled, y_encoded)\n"
   ]
  },
  {
   "cell_type": "code",
   "execution_count": 12,
   "id": "51fce34e",
   "metadata": {},
   "outputs": [],
   "source": [
    "X_train, X_val, y_train, y_val = train_test_split(X_selected, y_encoded, test_size=0.2, random_state=42)\n"
   ]
  },
  {
   "cell_type": "markdown",
   "id": "b15b6eb1",
   "metadata": {},
   "source": [
    "## Before applying Hyper Paramater Tuning"
   ]
  },
  {
   "cell_type": "code",
   "execution_count": 14,
   "id": "8b3f9ce7",
   "metadata": {},
   "outputs": [
    {
     "name": "stdout",
     "output_type": "stream",
     "text": [
      "Decision Tree Classifier Validation Scores: [0.92307692 1.         0.84615385 0.84615385 0.91666667 0.75\n",
      " 0.58333333 0.91666667 1.         0.66666667]\n"
     ]
    }
   ],
   "source": [
    "from sklearn.tree import DecisionTreeClassifier\n",
    "from sklearn.model_selection import cross_val_score\n",
    "from sklearn.metrics import classification_report\n",
    "\n",
    "# Decision Tree\n",
    "dt_model = DecisionTreeClassifier(random_state=42)\n",
    "dt_cv_scores = cross_val_score(dt_model, X_train, y_train, cv=10)\n",
    "dt_model.fit(X_train, y_train)\n",
    "\n",
    "# Evaluation on Validation Set\n",
    "print(\"Decision Tree Classifier Validation Scores:\", dt_cv_scores)\n"
   ]
  },
  {
   "cell_type": "code",
   "execution_count": 15,
   "id": "62563272",
   "metadata": {},
   "outputs": [
    {
     "name": "stdout",
     "output_type": "stream",
     "text": [
      "Random Forest Classifier Validation Scores: [0.92307692 0.92307692 0.84615385 0.84615385 1.         0.83333333\n",
      " 0.83333333 0.91666667 1.         0.83333333]\n"
     ]
    }
   ],
   "source": [
    "from sklearn.ensemble import RandomForestClassifier\n",
    "\n",
    "# Random Forest\n",
    "rf_model = RandomForestClassifier(random_state=42)\n",
    "rf_cv_scores = cross_val_score(rf_model, X_train, y_train, cv=10)\n",
    "rf_model.fit(X_train, y_train)\n",
    "\n",
    "# Evaluation on Validation Set\n",
    "print(\"Random Forest Classifier Validation Scores:\", rf_cv_scores)\n"
   ]
  },
  {
   "cell_type": "code",
   "execution_count": 16,
   "id": "d73b252b",
   "metadata": {},
   "outputs": [
    {
     "name": "stdout",
     "output_type": "stream",
     "text": [
      "Linear SVM (Hard Margin) Validation Scores: [1.         0.76923077 0.92307692 0.92307692 1.         0.75\n",
      " 0.75       0.83333333 0.91666667 0.83333333]\n",
      "Linear SVM (Soft Margin) Validation Scores: [1.         0.76923077 0.84615385 0.92307692 1.         0.75\n",
      " 0.83333333 0.75       0.91666667 0.91666667]\n",
      "RBF Kernel SVM Validation Scores: [1.         0.76923077 0.84615385 0.92307692 1.         0.75\n",
      " 0.83333333 0.75       0.91666667 0.91666667]\n"
     ]
    }
   ],
   "source": [
    "from sklearn.svm import SVC\n",
    "\n",
    "# Linear SVM (Hard Margin)\n",
    "svm_hard = SVC(kernel='linear', C=1000)\n",
    "svm_hard_cv_scores = cross_val_score(svm_hard, X_train, y_train, cv=10)\n",
    "svm_hard.fit(X_train, y_train)\n",
    "\n",
    "# Evaluation on Validation Set\n",
    "print(\"Linear SVM (Hard Margin) Validation Scores:\", svm_hard_cv_scores)\n",
    "\n",
    "# Linear SVM (Soft Margin)\n",
    "svm_soft = SVC(kernel='linear', C=0.1)\n",
    "svm_soft_cv_scores = cross_val_score(svm_soft, X_train, y_train, cv=10)\n",
    "svm_soft.fit(X_train, y_train)\n",
    "\n",
    "# Evaluation on Validation Set\n",
    "print(\"Linear SVM (Soft Margin) Validation Scores:\", svm_soft_cv_scores)\n",
    "\n",
    "# RBF Kernel SVM\n",
    "svm_rbf = SVC(kernel='rbf')\n",
    "svm_rbf_cv_scores = cross_val_score(svm_rbf, X_train, y_train, cv=10)\n",
    "svm_rbf.fit(X_train, y_train)\n",
    "\n",
    "# Evaluation on Validation Set\n",
    "print(\"RBF Kernel SVM Validation Scores:\", svm_rbf_cv_scores)\n"
   ]
  },
  {
   "cell_type": "code",
   "execution_count": 17,
   "id": "bd05c6ba",
   "metadata": {},
   "outputs": [
    {
     "name": "stdout",
     "output_type": "stream",
     "text": [
      "Gaussian Naive Bayes Validation Scores: [1.         0.61538462 0.84615385 0.92307692 1.         0.66666667\n",
      " 0.83333333 0.91666667 0.83333333 0.91666667]\n"
     ]
    }
   ],
   "source": [
    "from sklearn.naive_bayes import GaussianNB\n",
    "\n",
    "# Gaussian NB\n",
    "gnb_model = GaussianNB()\n",
    "gnb_cv_scores = cross_val_score(gnb_model, X_train, y_train, cv=10)\n",
    "gnb_model.fit(X_train, y_train)\n",
    "\n",
    "# Evaluation on Validation Set\n",
    "print(\"Gaussian Naive Bayes Validation Scores:\", gnb_cv_scores)\n"
   ]
  },
  {
   "cell_type": "code",
   "execution_count": 18,
   "id": "0b4e04b2",
   "metadata": {},
   "outputs": [
    {
     "name": "stdout",
     "output_type": "stream",
     "text": [
      "AdaBoost Classifier Validation Scores: [0.92307692 0.92307692 0.84615385 0.92307692 0.91666667 0.83333333\n",
      " 0.83333333 0.91666667 1.         0.75      ]\n"
     ]
    }
   ],
   "source": [
    "from sklearn.ensemble import AdaBoostClassifier\n",
    "\n",
    "# AdaBoost\n",
    "ada_model = AdaBoostClassifier(random_state=42)\n",
    "ada_cv_scores = cross_val_score(ada_model, X_train, y_train, cv=10)\n",
    "ada_model.fit(X_train, y_train)\n",
    "\n",
    "# Evaluation on Validation Set\n",
    "print(\"AdaBoost Classifier Validation Scores:\", ada_cv_scores)\n"
   ]
  },
  {
   "cell_type": "code",
   "execution_count": 19,
   "id": "668f86cb",
   "metadata": {},
   "outputs": [
    {
     "name": "stdout",
     "output_type": "stream",
     "text": [
      "Logistic Regression Validation Scores: [1.         0.69230769 0.84615385 0.92307692 1.         0.83333333\n",
      " 0.83333333 0.75       0.91666667 0.91666667]\n"
     ]
    }
   ],
   "source": [
    "from sklearn.linear_model import LogisticRegression\n",
    "\n",
    "# Logistic Regression\n",
    "log_reg = LogisticRegression(max_iter=1000)\n",
    "log_reg_cv_scores = cross_val_score(log_reg, X_train, y_train, cv=10)\n",
    "log_reg.fit(X_train, y_train)\n",
    "\n",
    "# Evaluation on Validation Set\n",
    "print(\"Logistic Regression Validation Scores:\", log_reg_cv_scores)\n"
   ]
  },
  {
   "cell_type": "code",
   "execution_count": 15,
   "id": "2a9b00ec",
   "metadata": {
    "scrolled": false
   },
   "outputs": [
    {
     "name": "stderr",
     "output_type": "stream",
     "text": [
      "C:\\ProgramData\\anaconda3\\Lib\\site-packages\\seaborn\\_oldcore.py:1498: FutureWarning: is_categorical_dtype is deprecated and will be removed in a future version. Use isinstance(dtype, CategoricalDtype) instead\n",
      "  if pd.api.types.is_categorical_dtype(vector):\n",
      "C:\\ProgramData\\anaconda3\\Lib\\site-packages\\seaborn\\_oldcore.py:1498: FutureWarning: is_categorical_dtype is deprecated and will be removed in a future version. Use isinstance(dtype, CategoricalDtype) instead\n",
      "  if pd.api.types.is_categorical_dtype(vector):\n",
      "C:\\ProgramData\\anaconda3\\Lib\\site-packages\\seaborn\\_oldcore.py:1765: FutureWarning: unique with argument that is not not a Series, Index, ExtensionArray, or np.ndarray is deprecated and will raise in a future version.\n",
      "  order = pd.unique(vector)\n",
      "C:\\ProgramData\\anaconda3\\Lib\\site-packages\\seaborn\\_oldcore.py:1498: FutureWarning: is_categorical_dtype is deprecated and will be removed in a future version. Use isinstance(dtype, CategoricalDtype) instead\n",
      "  if pd.api.types.is_categorical_dtype(vector):\n"
     ]
    },
    {
     "data": {
      "image/png": "[encoded data removed]",
      "text/plain": [
       "<Figure size 1200x600 with 1 Axes>"
      ]
     },
     "metadata": {},
     "output_type": "display_data"
    },
    {
     "name": "stdout",
     "output_type": "stream",
     "text": [
      "Classification Reports for Initial Model Performances:\n",
      "Decision Tree:\n",
      "               precision    recall  f1-score   support\n",
      "\n",
      "           0       0.88      0.74      0.80        19\n",
      "           1       0.69      0.85      0.76        13\n",
      "\n",
      "    accuracy                           0.78        32\n",
      "   macro avg       0.78      0.79      0.78        32\n",
      "weighted avg       0.80      0.78      0.78        32\n",
      "\n",
      "\n",
      "Random Forest:\n",
      "               precision    recall  f1-score   support\n",
      "\n",
      "           0       0.88      0.74      0.80        19\n",
      "           1       0.69      0.85      0.76        13\n",
      "\n",
      "    accuracy                           0.78        32\n",
      "   macro avg       0.78      0.79      0.78        32\n",
      "weighted avg       0.80      0.78      0.78        32\n",
      "\n",
      "\n",
      "SVM Hard:\n",
      "               precision    recall  f1-score   support\n",
      "\n",
      "           0       0.79      0.79      0.79        19\n",
      "           1       0.69      0.69      0.69        13\n",
      "\n",
      "    accuracy                           0.75        32\n",
      "   macro avg       0.74      0.74      0.74        32\n",
      "weighted avg       0.75      0.75      0.75        32\n",
      "\n",
      "\n",
      "SVM Soft:\n",
      "               precision    recall  f1-score   support\n",
      "\n",
      "           0       0.73      0.84      0.78        19\n",
      "           1       0.70      0.54      0.61        13\n",
      "\n",
      "    accuracy                           0.72        32\n",
      "   macro avg       0.71      0.69      0.69        32\n",
      "weighted avg       0.72      0.72      0.71        32\n",
      "\n",
      "\n",
      "SVM RBF:\n",
      "               precision    recall  f1-score   support\n",
      "\n",
      "           0       0.75      0.79      0.77        19\n",
      "           1       0.67      0.62      0.64        13\n",
      "\n",
      "    accuracy                           0.72        32\n",
      "   macro avg       0.71      0.70      0.70        32\n",
      "weighted avg       0.72      0.72      0.72        32\n",
      "\n",
      "\n",
      "Gaussian NB:\n",
      "               precision    recall  f1-score   support\n",
      "\n",
      "           0       0.75      0.79      0.77        19\n",
      "           1       0.67      0.62      0.64        13\n",
      "\n",
      "    accuracy                           0.72        32\n",
      "   macro avg       0.71      0.70      0.70        32\n",
      "weighted avg       0.72      0.72      0.72        32\n",
      "\n"
     ]
    }
   ],
   "source": [
    "\n",
    "model_names = ['Decision Tree', 'Random Forest', 'SVM Hard', 'SVM Soft', 'SVM RBF', 'Gaussian NB']\n",
    "validation_scores = [dt_val_acc, rf_val_acc, svm_hard_val_acc, svm_soft_val_acc, svm_rbf_val_acc, gnb_val_acc]\n",
    "\n",
    "# Plot\n",
    "plt.figure(figsize=(12, 6))\n",
    "sns.barplot(x=model_names, y=validation_scores)\n",
    "plt.title('Model Validation Accuracy Scores (Initial)')\n",
    "plt.ylabel('Accuracy')\n",
    "plt.xlabel('Model')\n",
    "plt.show()\n",
    "\n",
    "# classification reports\n",
    "print(\"Classification Reports for Initial Model Performances:\")\n",
    "print(\"Decision Tree:\\n\", dt_val_report)\n",
    "print(\"\\nRandom Forest:\\n\", rf_val_report)\n",
    "print(\"\\nSVM Hard:\\n\", svm_hard_val_report)\n",
    "print(\"\\nSVM Soft:\\n\", svm_soft_val_report)\n",
    "print(\"\\nSVM RBF:\\n\", svm_rbf_val_report)\n",
    "print(\"\\nGaussian NB:\\n\", gnb_val_report)\n"
   ]
  },
  {
   "cell_type": "code",
   "execution_count": 20,
   "id": "47a937e3",
   "metadata": {
    "scrolled": false
   },
   "outputs": [
    {
     "name": "stderr",
     "output_type": "stream",
     "text": [
      "C:\\ProgramData\\anaconda3\\Lib\\site-packages\\seaborn\\_oldcore.py:1498: FutureWarning: is_categorical_dtype is deprecated and will be removed in a future version. Use isinstance(dtype, CategoricalDtype) instead\n",
      "  if pd.api.types.is_categorical_dtype(vector):\n",
      "C:\\ProgramData\\anaconda3\\Lib\\site-packages\\seaborn\\_oldcore.py:1498: FutureWarning: is_categorical_dtype is deprecated and will be removed in a future version. Use isinstance(dtype, CategoricalDtype) instead\n",
      "  if pd.api.types.is_categorical_dtype(vector):\n",
      "C:\\ProgramData\\anaconda3\\Lib\\site-packages\\seaborn\\_oldcore.py:1765: FutureWarning: unique with argument that is not not a Series, Index, ExtensionArray, or np.ndarray is deprecated and will raise in a future version.\n",
      "  order = pd.unique(vector)\n",
      "C:\\ProgramData\\anaconda3\\Lib\\site-packages\\seaborn\\_oldcore.py:1498: FutureWarning: is_categorical_dtype is deprecated and will be removed in a future version. Use isinstance(dtype, CategoricalDtype) instead\n",
      "  if pd.api.types.is_categorical_dtype(vector):\n"
     ]
    },
    {
     "data": {
      "image/png": "[encoded data removed]",
      "text/plain": [
       "<Figure size 1400x700 with 1 Axes>"
      ]
     },
     "metadata": {},
     "output_type": "display_data"
    },
    {
     "name": "stdout",
     "output_type": "stream",
     "text": [
      "Classification Reports for Model Performances:\n",
      "Decision Tree:\n",
      "              precision    recall  f1-score   support\n",
      "\n",
      "           0       0.88      0.74      0.80        19\n",
      "           1       0.69      0.85      0.76        13\n",
      "\n",
      "    accuracy                           0.78        32\n",
      "   macro avg       0.78      0.79      0.78        32\n",
      "weighted avg       0.80      0.78      0.78        32\n",
      "\n",
      "\n",
      "Random Forest:\n",
      "              precision    recall  f1-score   support\n",
      "\n",
      "           0       0.88      0.74      0.80        19\n",
      "           1       0.69      0.85      0.76        13\n",
      "\n",
      "    accuracy                           0.78        32\n",
      "   macro avg       0.78      0.79      0.78        32\n",
      "weighted avg       0.80      0.78      0.78        32\n",
      "\n",
      "\n",
      "SVM Hard:\n",
      "              precision    recall  f1-score   support\n",
      "\n",
      "           0       0.79      0.79      0.79        19\n",
      "           1       0.69      0.69      0.69        13\n",
      "\n",
      "    accuracy                           0.75        32\n",
      "   macro avg       0.74      0.74      0.74        32\n",
      "weighted avg       0.75      0.75      0.75        32\n",
      "\n",
      "\n",
      "SVM Soft:\n",
      "              precision    recall  f1-score   support\n",
      "\n",
      "           0       0.73      0.84      0.78        19\n",
      "           1       0.70      0.54      0.61        13\n",
      "\n",
      "    accuracy                           0.72        32\n",
      "   macro avg       0.71      0.69      0.69        32\n",
      "weighted avg       0.72      0.72      0.71        32\n",
      "\n",
      "\n",
      "SVM RBF:\n",
      "              precision    recall  f1-score   support\n",
      "\n",
      "           0       0.75      0.79      0.77        19\n",
      "           1       0.67      0.62      0.64        13\n",
      "\n",
      "    accuracy                           0.72        32\n",
      "   macro avg       0.71      0.70      0.70        32\n",
      "weighted avg       0.72      0.72      0.72        32\n",
      "\n",
      "\n",
      "Gaussian NB:\n",
      "              precision    recall  f1-score   support\n",
      "\n",
      "           0       0.75      0.79      0.77        19\n",
      "           1       0.67      0.62      0.64        13\n",
      "\n",
      "    accuracy                           0.72        32\n",
      "   macro avg       0.71      0.70      0.70        32\n",
      "weighted avg       0.72      0.72      0.72        32\n",
      "\n",
      "\n",
      "AdaBoost:\n",
      "              precision    recall  f1-score   support\n",
      "\n",
      "           0       0.88      0.74      0.80        19\n",
      "           1       0.69      0.85      0.76        13\n",
      "\n",
      "    accuracy                           0.78        32\n",
      "   macro avg       0.78      0.79      0.78        32\n",
      "weighted avg       0.80      0.78      0.78        32\n",
      "\n",
      "\n",
      "Logistic Regression:\n",
      "              precision    recall  f1-score   support\n",
      "\n",
      "           0       0.84      0.84      0.84        19\n",
      "           1       0.77      0.77      0.77        13\n",
      "\n",
      "    accuracy                           0.81        32\n",
      "   macro avg       0.81      0.81      0.81        32\n",
      "weighted avg       0.81      0.81      0.81        32\n",
      "\n",
      "\n"
     ]
    }
   ],
   "source": [
    "import matplotlib.pyplot as plt\n",
    "import seaborn as sns\n",
    "from sklearn.metrics import accuracy_score, classification_report\n",
    "\n",
    "def evaluate_model(model, X_val, y_val):\n",
    "    y_val_pred = model.predict(X_val)\n",
    "    return accuracy_score(y_val, y_val_pred), classification_report(y_val, y_val_pred)\n",
    "\n",
    "# Evaluating all models\n",
    "dt_val_acc, dt_val_report = evaluate_model(dt_model, X_val, y_val)\n",
    "rf_val_acc, rf_val_report = evaluate_model(rf_model, X_val, y_val)\n",
    "svm_hard_val_acc, svm_hard_val_report = evaluate_model(svm_hard, X_val, y_val)\n",
    "svm_soft_val_acc, svm_soft_val_report = evaluate_model(svm_soft, X_val, y_val)\n",
    "svm_rbf_val_acc, svm_rbf_val_report = evaluate_model(svm_rbf, X_val, y_val)\n",
    "gnb_val_acc, gnb_val_report = evaluate_model(gnb_model, X_val, y_val)\n",
    "ada_val_acc, ada_val_report = evaluate_model(ada_model, X_val, y_val)\n",
    "log_reg_val_acc, log_reg_val_report = evaluate_model(log_reg, X_val, y_val)\n",
    "\n",
    "# Storing model names and their validation scores\n",
    "model_names = ['Decision Tree', 'Random Forest', 'SVM Hard', 'SVM Soft', 'SVM RBF', 'Gaussian NB', 'AdaBoost', 'Logistic Regression']\n",
    "validation_scores = [dt_val_acc, rf_val_acc, svm_hard_val_acc, svm_soft_val_acc, svm_rbf_val_acc, gnb_val_acc, ada_val_acc, log_reg_val_acc]\n",
    "\n",
    "# Plotting Model Validation Accuracy Scores\n",
    "plt.figure(figsize=(14, 7))\n",
    "sns.barplot(x=model_names, y=validation_scores, palette='viridis')\n",
    "plt.title('Model Validation Accuracy Scores')\n",
    "plt.ylabel('Accuracy')\n",
    "plt.xlabel('Model')\n",
    "plt.xticks(rotation=45)\n",
    "plt.show()\n",
    "\n",
    "# Display classification reports\n",
    "print(\"Classification Reports for Model Performances:\")\n",
    "for model_name, report in zip(model_names, [dt_val_report, rf_val_report, svm_hard_val_report, svm_soft_val_report, svm_rbf_val_report, gnb_val_report, ada_val_report, log_reg_val_report]):\n",
    "    print(f\"{model_name}:\\n{report}\\n\")\n"
   ]
  },
  {
   "cell_type": "markdown",
   "id": "947e06eb",
   "metadata": {},
   "source": [
    "# After applying Hyper Paramenter Tuning (Gridsearch)"
   ]
  },
  {
   "cell_type": "code",
   "execution_count": 21,
   "id": "503f48be",
   "metadata": {},
   "outputs": [
    {
     "name": "stdout",
     "output_type": "stream",
     "text": [
      "Best Decision Tree Parameters: {'max_depth': None, 'min_samples_leaf': 1, 'min_samples_split': 5}\n"
     ]
    }
   ],
   "source": [
    "from sklearn.model_selection import GridSearchCV\n",
    "\n",
    "# Parameters for Decision Tree\n",
    "dt_params = {\n",
    "    'max_depth': [None, 10, 20, 30, 40, 50],\n",
    "    'min_samples_split': [2, 5, 10],\n",
    "    'min_samples_leaf': [1, 2, 4]\n",
    "}\n",
    "\n",
    "# GridSearch on Decision Tree\n",
    "dt_grid_search = GridSearchCV(DecisionTreeClassifier(random_state=42), dt_params, cv=10, n_jobs=-1)\n",
    "dt_grid_search.fit(X_train, y_train)\n",
    "\n",
    "# Best estimator and parameters\n",
    "print(\"Best Decision Tree Parameters:\", dt_grid_search.best_params_)\n"
   ]
  },
  {
   "cell_type": "code",
   "execution_count": 22,
   "id": "a7155124",
   "metadata": {},
   "outputs": [
    {
     "name": "stdout",
     "output_type": "stream",
     "text": [
      "Best Random Forest Parameters: {'max_depth': None, 'min_samples_leaf': 1, 'min_samples_split': 5, 'n_estimators': 50}\n"
     ]
    }
   ],
   "source": [
    "# Parameters for Random Forest\n",
    "rf_params = {\n",
    "    'n_estimators': [10, 50, 100, 200],\n",
    "    'max_depth': [None, 10, 20, 30],\n",
    "    'min_samples_split': [2, 5, 10],\n",
    "    'min_samples_leaf': [1, 2, 4]\n",
    "}\n",
    "\n",
    "# GridSearch on Random Forest\n",
    "rf_grid_search = GridSearchCV(RandomForestClassifier(random_state=42), rf_params, cv=10, n_jobs=-1)\n",
    "rf_grid_search.fit(X_train, y_train)\n",
    "\n",
    "# Best estimator and parameters\n",
    "print(\"Best Random Forest Parameters:\", rf_grid_search.best_params_)\n"
   ]
  },
  {
   "cell_type": "code",
   "execution_count": 23,
   "id": "a5803bef",
   "metadata": {},
   "outputs": [
    {
     "name": "stdout",
     "output_type": "stream",
     "text": [
      "Best SVM Parameters: {'C': 1, 'gamma': 'scale', 'kernel': 'linear'}\n"
     ]
    }
   ],
   "source": [
    "# Parameters for SVM\n",
    "svm_params = {\n",
    "    'C': [0.1, 1, 10, 100, 1000],\n",
    "    'kernel': ['linear', 'rbf'],\n",
    "    'gamma': ['scale', 'auto']\n",
    "}\n",
    "\n",
    "# GridSearch on SVM\n",
    "svm_grid_search = GridSearchCV(SVC(), svm_params, cv=10, n_jobs=-1)\n",
    "svm_grid_search.fit(X_train, y_train)\n",
    "\n",
    "# Best estimator and parameters\n",
    "print(\"Best SVM Parameters:\", svm_grid_search.best_params_)\n"
   ]
  },
  {
   "cell_type": "markdown",
   "id": "eb8b56ce",
   "metadata": {},
   "source": [
    "#### Gaussian Naive Bayes with GridSearchCV\n",
    "Gaussian Naive Bayes typically doesn't require hyperparameter tuning."
   ]
  },
  {
   "cell_type": "code",
   "execution_count": 24,
   "id": "da531a19",
   "metadata": {},
   "outputs": [
    {
     "name": "stdout",
     "output_type": "stream",
     "text": [
      "Best AdaBoost Parameters: {'learning_rate': 1, 'n_estimators': 200}\n"
     ]
    }
   ],
   "source": [
    "# Parameters for AdaBoost\n",
    "ada_params = {\n",
    "    'n_estimators': [50, 100, 200],\n",
    "    'learning_rate': [0.01, 0.1, 1]\n",
    "}\n",
    "\n",
    "# GridSearch on AdaBoost\n",
    "ada_grid_search = GridSearchCV(AdaBoostClassifier(random_state=42), ada_params, cv=10, n_jobs=-1)\n",
    "ada_grid_search.fit(X_train, y_train)\n",
    "\n",
    "# Best estimator and parameters\n",
    "print(\"Best AdaBoost Parameters:\", ada_grid_search.best_params_)\n"
   ]
  },
  {
   "cell_type": "code",
   "execution_count": 25,
   "id": "8b3f5083",
   "metadata": {},
   "outputs": [
    {
     "name": "stdout",
     "output_type": "stream",
     "text": [
      "Best Logistic Regression Parameters: {'C': 10, 'solver': 'newton-cg'}\n"
     ]
    }
   ],
   "source": [
    "# Parameters for Logistic Regression\n",
    "log_reg_params = {\n",
    "    'C': [0.001, 0.01, 0.1, 1, 10, 100],\n",
    "    'solver': ['newton-cg', 'lbfgs', 'liblinear', 'sag', 'saga']\n",
    "}\n",
    "\n",
    "# GridSearch on Logistic Regression\n",
    "log_reg_grid_search = GridSearchCV(LogisticRegression(max_iter=1000), log_reg_params, cv=10, n_jobs=-1)\n",
    "log_reg_grid_search.fit(X_train, y_train)\n",
    "\n",
    "# Best estimator and parameters\n",
    "print(\"Best Logistic Regression Parameters:\", log_reg_grid_search.best_params_)\n"
   ]
  },
  {
   "cell_type": "code",
   "execution_count": 30,
   "id": "2e6673ad",
   "metadata": {
    "scrolled": false
   },
   "outputs": [
    {
     "name": "stderr",
     "output_type": "stream",
     "text": [
      "C:\\ProgramData\\anaconda3\\Lib\\site-packages\\seaborn\\_oldcore.py:1498: FutureWarning: is_categorical_dtype is deprecated and will be removed in a future version. Use isinstance(dtype, CategoricalDtype) instead\n",
      "  if pd.api.types.is_categorical_dtype(vector):\n",
      "C:\\ProgramData\\anaconda3\\Lib\\site-packages\\seaborn\\_oldcore.py:1498: FutureWarning: is_categorical_dtype is deprecated and will be removed in a future version. Use isinstance(dtype, CategoricalDtype) instead\n",
      "  if pd.api.types.is_categorical_dtype(vector):\n",
      "C:\\ProgramData\\anaconda3\\Lib\\site-packages\\seaborn\\_oldcore.py:1765: FutureWarning: unique with argument that is not not a Series, Index, ExtensionArray, or np.ndarray is deprecated and will raise in a future version.\n",
      "  order = pd.unique(vector)\n",
      "C:\\ProgramData\\anaconda3\\Lib\\site-packages\\seaborn\\_oldcore.py:1498: FutureWarning: is_categorical_dtype is deprecated and will be removed in a future version. Use isinstance(dtype, CategoricalDtype) instead\n",
      "  if pd.api.types.is_categorical_dtype(vector):\n"
     ]
    },
    {
     "data": {
      "image/png": "[encoded data removed]",
      "text/plain": [
       "<Figure size 1400x700 with 1 Axes>"
      ]
     },
     "metadata": {},
     "output_type": "display_data"
    },
    {
     "name": "stdout",
     "output_type": "stream",
     "text": [
      "Classification Reports for Tuned Model Performances:\n",
      "Tuned Decision Tree:\n",
      "              precision    recall  f1-score   support\n",
      "\n",
      "           0       0.88      0.74      0.80        19\n",
      "           1       0.69      0.85      0.76        13\n",
      "\n",
      "    accuracy                           0.78        32\n",
      "   macro avg       0.78      0.79      0.78        32\n",
      "weighted avg       0.80      0.78      0.78        32\n",
      "\n",
      "\n",
      "Tuned Random Forest:\n",
      "              precision    recall  f1-score   support\n",
      "\n",
      "           0       0.88      0.74      0.80        19\n",
      "           1       0.69      0.85      0.76        13\n",
      "\n",
      "    accuracy                           0.78        32\n",
      "   macro avg       0.78      0.79      0.78        32\n",
      "weighted avg       0.80      0.78      0.78        32\n",
      "\n",
      "\n",
      "Tuned SVM:\n",
      "              precision    recall  f1-score   support\n",
      "\n",
      "           0       0.80      0.84      0.82        19\n",
      "           1       0.75      0.69      0.72        13\n",
      "\n",
      "    accuracy                           0.78        32\n",
      "   macro avg       0.78      0.77      0.77        32\n",
      "weighted avg       0.78      0.78      0.78        32\n",
      "\n",
      "\n",
      "Tuned AdaBoost:\n",
      "              precision    recall  f1-score   support\n",
      "\n",
      "           0       0.88      0.79      0.83        19\n",
      "           1       0.73      0.85      0.79        13\n",
      "\n",
      "    accuracy                           0.81        32\n",
      "   macro avg       0.81      0.82      0.81        32\n",
      "weighted avg       0.82      0.81      0.81        32\n",
      "\n",
      "\n",
      "Tuned Logistic Regression:\n",
      "              precision    recall  f1-score   support\n",
      "\n",
      "           0       0.84      0.84      0.84        19\n",
      "           1       0.77      0.77      0.77        13\n",
      "\n",
      "    accuracy                           0.81        32\n",
      "   macro avg       0.81      0.81      0.81        32\n",
      "weighted avg       0.81      0.81      0.81        32\n",
      "\n",
      "\n"
     ]
    }
   ],
   "source": [
    "import matplotlib.pyplot as plt\n",
    "import seaborn as sns\n",
    "from sklearn.metrics import classification_report, accuracy_score\n",
    "\n",
    "grid_search_objects = [dt_grid_search, rf_grid_search, svm_grid_search, ada_grid_search, log_reg_grid_search]\n",
    "model_names = ['Tuned Decision Tree', 'Tuned Random Forest', 'Tuned SVM', 'Tuned AdaBoost', 'Tuned Logistic Regression']\n",
    "\n",
    "validation_scores = []\n",
    "classification_reports = []\n",
    "\n",
    "\n",
    "def evaluate_tuned_model(grid_search_model, X_val, y_val):\n",
    "    best_model = grid_search_model.best_estimator_\n",
    "    y_val_pred = best_model.predict(X_val)\n",
    "    accuracy = accuracy_score(y_val, y_val_pred)\n",
    "    report = classification_report(y_val, y_val_pred)\n",
    "    return accuracy, report\n",
    "\n",
    "for grid_search, model_name in zip(grid_search_objects, model_names):\n",
    "    val_acc, val_report = evaluate_tuned_model(grid_search, X_val, y_val)\n",
    "    validation_scores.append(val_acc)\n",
    "    classification_reports.append(val_report)\n",
    "\n",
    "# Visualization of Model Validation Accuracy Scores\n",
    "plt.figure(figsize=(14, 7))\n",
    "sns.barplot(x=model_names, y=validation_scores, palette='viridis')\n",
    "plt.title('Model Validation Accuracy Scores After Hyperparameter Tuning')\n",
    "plt.ylabel('Accuracy')\n",
    "plt.xlabel('Model')\n",
    "plt.xticks(rotation=45)\n",
    "plt.show()\n",
    "\n",
    "#classification reports\n",
    "print(\"Classification Reports for Tuned Model Performances:\")\n",
    "for model_name, report in zip(model_names, classification_reports):\n",
    "    print(f\"{model_name}:\\n{report}\\n\")\n"
   ]
  },
  {
   "cell_type": "code",
   "execution_count": 31,
   "id": "11ecf3e9",
   "metadata": {},
   "outputs": [
    {
     "name": "stdout",
     "output_type": "stream",
     "text": [
      "The best model based on validation accuracy is Logistic Regression with an accuracy of 0.81\n"
     ]
    }
   ],
   "source": [
    "\n",
    "from sklearn.metrics import accuracy_score\n",
    "\n",
    "def evaluate_model(model, X_val, y_val):\n",
    "    y_val_pred = model.predict(X_val)\n",
    "    return accuracy_score(y_val, y_val_pred)\n",
    "\n",
    "# Evaluate initial models\n",
    "dt_val_acc = evaluate_model(dt_model, X_val, y_val)\n",
    "rf_val_acc = evaluate_model(rf_model, X_val, y_val)\n",
    "svm_hard_val_acc = evaluate_model(svm_hard, X_val, y_val)\n",
    "svm_soft_val_acc = evaluate_model(svm_soft, X_val, y_val)\n",
    "svm_rbf_val_acc = evaluate_model(svm_rbf, X_val, y_val)\n",
    "gnb_val_acc = evaluate_model(gnb_model, X_val, y_val)\n",
    "ada_val_acc = evaluate_model(ada_model, X_val, y_val)\n",
    "log_reg_val_acc = evaluate_model(log_reg, X_val, y_val)\n",
    "\n",
    "# Evaluate tuned models\n",
    "grid_dt_val_acc = evaluate_model(dt_grid_search.best_estimator_, X_val, y_val)\n",
    "grid_rf_val_acc = evaluate_model(rf_grid_search.best_estimator_, X_val, y_val)\n",
    "grid_svm_val_acc = evaluate_model(svm_grid_search.best_estimator_, X_val, y_val)\n",
    "grid_ada_val_acc = evaluate_model(ada_grid_search.best_estimator_, X_val, y_val)\n",
    "grid_log_reg_val_acc = evaluate_model(log_reg_grid_search.best_estimator_, X_val, y_val)\n",
    "\n",
    "# Compare accuracies\n",
    "model_accuracies = {\n",
    "    'Decision Tree': dt_val_acc,\n",
    "    'Random Forest': rf_val_acc,\n",
    "    'SVM Hard': svm_hard_val_acc,\n",
    "    'SVM Soft': svm_soft_val_acc,\n",
    "    'SVM RBF': svm_rbf_val_acc,\n",
    "    'Gaussian NB': gnb_val_acc,\n",
    "    'AdaBoost': ada_val_acc,\n",
    "    'Logistic Regression': log_reg_val_acc,\n",
    "    'Tuned Decision Tree': grid_dt_val_acc,\n",
    "    'Tuned Random Forest': grid_rf_val_acc,\n",
    "    'Tuned SVM': grid_svm_val_acc,\n",
    "    'Tuned AdaBoost': grid_ada_val_acc,\n",
    "    'Tuned Logistic Regression': grid_log_reg_val_acc\n",
    "}\n",
    "\n",
    "\n",
    "best_model_name = max(model_accuracies, key=model_accuracies.get)\n",
    "best_model_accuracy = model_accuracies[best_model_name]\n",
    "\n",
    "print(f\"The best model based on validation accuracy is {best_model_name} with an accuracy of {best_model_accuracy:.2f}\")\n"
   ]
  },
  {
   "cell_type": "code",
   "execution_count": 32,
   "id": "73e250c7",
   "metadata": {},
   "outputs": [
    {
     "name": "stdout",
     "output_type": "stream",
     "text": [
      "Transformed Predicted Class Labels for the Test Data:\n",
      "['H', 'H', 'P', 'H', 'P', 'P', 'P', 'P', 'P', 'H', 'P', 'H', 'H', 'P', 'P', 'P', 'H', 'P']\n"
     ]
    }
   ],
   "source": [
    "\n",
    "if best_model_name == 'Decision Tree':\n",
    "    best_model = dt_model\n",
    "elif best_model_name == 'Random Forest':\n",
    "    best_model = rf_model\n",
    "elif best_model_name == 'SVM Hard':\n",
    "    best_model = svm_hard\n",
    "elif best_model_name == 'SVM Soft':\n",
    "    best_model = svm_soft\n",
    "elif best_model_name == 'SVM RBF':\n",
    "    best_model = svm_rbf\n",
    "elif best_model_name == 'Gaussian NB':\n",
    "    best_model = gnb_model\n",
    "elif best_model_name == 'AdaBoost':\n",
    "    best_model = ada_model\n",
    "elif best_model_name == 'Logistic Regression':\n",
    "    best_model = log_reg\n",
    "elif best_model_name == 'Tuned Decision Tree':\n",
    "    best_model = dt_grid_search.best_estimator_\n",
    "elif best_model_name == 'Tuned Random Forest':\n",
    "    best_model = rf_grid_search.best_estimator_\n",
    "elif best_model_name == 'Tuned SVM':\n",
    "    best_model = svm_grid_search.best_estimator_\n",
    "elif best_model_name == 'Tuned AdaBoost':\n",
    "    best_model = ada_grid_search.best_estimator_\n",
    "elif best_model_name == 'Tuned Logistic Regression':\n",
    "    best_model = log_reg_grid_search.best_estimator_\n",
    "\n",
    "X_test_selected = selector.transform(X_test_scaled)\n",
    "\n",
    "test_predictions = best_model.predict(X_test_selected)\n",
    "\n",
    "transformed_predictions = ['H' if label == 0 else 'P' for label in test_predictions]\n",
    "\n",
    "print(\"Transformed Predicted Class Labels for the Test Data:\")\n",
    "print(transformed_predictions)\n"
   ]
  },
  {
   "cell_type": "code",
   "execution_count": 34,
   "id": "6a820f75",
   "metadata": {},
   "outputs": [
    {
     "name": "stdout",
     "output_type": "stream",
     "text": [
      "Predicted class labels saved to predicted_class_labels_21234.txt\n"
     ]
    }
   ],
   "source": [
    "filename = 'predicted_class_labels_21234.txt'\n",
    "\n",
    "# Writing to the file\n",
    "with open(filename, 'w') as file:\n",
    "    for prediction in transformed_predictions:\n",
    "        file.write(prediction + '\\n')\n",
    "\n",
    "print(f\"Predicted class labels saved to {filename}\")\n"
   ]
  },
  {
   "cell_type": "code",
   "execution_count": null,
   "id": "12fc2528",
   "metadata": {},
   "outputs": [],
   "source": []
  }
 ],
 "metadata": {
  "kernelspec": {
   "display_name": "Python 3 (ipykernel)",
   "language": "python",
   "name": "python3"
  },
  "language_info": {
   "codemirror_mode": {
    "name": "ipython",
    "version": 3
   },
   "file_extension": ".py",
   "mimetype": "text/x-python",
   "name": "python",
   "nbconvert_exporter": "python",
   "pygments_lexer": "ipython3",
   "version": "3.11.5"
  }
 },
 "nbformat": 4,
 "nbformat_minor": 5
}
